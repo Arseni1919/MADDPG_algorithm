{
 "cells": [
  {
   "cell_type": "code",
   "execution_count": 1,
   "metadata": {
    "collapsed": true
   },
   "outputs": [
    {
     "name": "stderr",
     "output_type": "stream",
     "text": [
      "/Users/perchik/opt/anaconda3/envs/PettingZoo/lib/python3.9/site-packages/pettingzoo/utils/wrappers/base.py:59: UserWarning: The `action_spaces` dictionary is deprecated. Use the `action_space` function instead.\n",
      "  warnings.warn(\"The `action_spaces` dictionary is deprecated. Use the `action_space` function instead.\")\n",
      "/Users/perchik/opt/anaconda3/envs/PettingZoo/lib/python3.9/site-packages/pettingzoo/utils/wrappers/base.py:51: UserWarning: The `observation_spaces` dictionary is deprecated. Use the `observation_space` function instead.\n",
      "  warnings.warn(\"The `observation_spaces` dictionary is deprecated. Use the `observation_space` function instead.\")\n"
     ]
    }
   ],
   "source": [
    "from alg_constrants_amd_packages import *\n",
    "\n"
   ]
  },
  {
   "cell_type": "code",
   "execution_count": 31,
   "outputs": [
    {
     "data": {
      "text/plain": "[-0.467038631439209,\n 0.025499578565359116,\n -0.5317897200584412,\n -0.015859881415963173,\n -0.18949057161808014,\n 0.6488919258117676,\n 0.1596093326807022,\n 0.5007205009460449,\n -0.24404028058052063,\n 0.22819176316261292,\n -0.06286992877721786,\n 0.19604533910751343,\n -0.18879443407058716,\n 0.17606808245182037,\n -0.18876679241657257,\n -0.20477519929409027,\n 0.2120453268289566,\n 0.7187702059745789,\n 0.7506433129310608,\n -0.5903461575508118,\n 0.09330108761787415,\n -0.629395067691803,\n -0.38004907965660095,\n -0.40830931067466736,\n 0.5904350876808167,\n 0.08433248102664948,\n 0.13869409263134003,\n -0.2782893776893616,\n -0.1905747652053833,\n -0.5627925395965576,\n 0.19546841084957123,\n 0.16608601808547974,\n -0.3222714364528656,\n 0.36048027873039246,\n 0.43796756863594055,\n -0.5988932251930237,\n 0.24066412448883057,\n 0.7531742453575134,\n 0.21609795093536377,\n 0.8694955706596375,\n 0.041262734681367874,\n 0.16226248443126678,\n -0.2357713282108307,\n 0.5129687190055847,\n 0.8066649436950684,\n 0.39984482526779175,\n -1.2273346185684204,\n 0.30032721161842346,\n 0.2933472990989685,\n -0.11204607784748077,\n -0.008444398641586304,\n -0.6394394040107727,\n 0.245036780834198,\n 0.4225318729877472,\n 0.05274202302098274,\n -0.4585689604282379,\n -0.4485537111759186,\n -0.1358899027109146,\n 0.16231031715869904,\n -0.5192551016807556,\n 0.4741307497024536,\n -0.45344457030296326,\n -0.32030531764030457,\n -0.29077526926994324,\n -0.2398364245891571,\n 1.1968685388565063,\n 0.4860440194606781,\n -0.5022033452987671,\n -0.37799271941185,\n -0.22629967331886292,\n -0.4717027544975281,\n -0.40102317929267883,\n 0.7538114190101624,\n 0.9061732292175293,\n 0.24150723218917847,\n -0.33522912859916687,\n 0.01682792790234089,\n 0.1737830489873886,\n -0.22658197581768036,\n 0.03801804408431053,\n 0.4650419056415558,\n 0.11283451318740845,\n -0.011437411420047283,\n 0.4374159574508667,\n -0.007371377665549517,\n 0.44641348719596863,\n 0.48982787132263184,\n -0.32078370451927185,\n 0.9328196048736572,\n -1.4779376983642578,\n 1.108320713043213,\n 0.2058301419019699,\n -0.599960207939148,\n -0.7062605023384094,\n 0.15176713466644287,\n -0.3176494836807251,\n 1.1525741815567017,\n 0.9463610649108887,\n 0.04089764878153801,\n -0.014623611234128475]"
     },
     "execution_count": 31,
     "metadata": {},
     "output_type": "execute_result"
    },
    {
     "data": {
      "text/plain": "<Figure size 432x288 with 1 Axes>",
      "image/png": "[encoded data removed]"
     },
     "metadata": {
      "needs_background": "light"
     },
     "output_type": "display_data"
    }
   ],
   "source": [
    "l = [torch.normal(mean=torch.tensor(0.0), std=torch.tensor(0.5)).item() for _ in range(100)]\n",
    "plt.hist(l)\n",
    "torch.normal(mean=torch.tensor(0.0), std=torch.tensor(0.5))\n",
    "l"
   ],
   "metadata": {
    "collapsed": false,
    "pycharm": {
     "name": "#%%\n"
    }
   }
  },
  {
   "cell_type": "code",
   "execution_count": 18,
   "outputs": [
    {
     "data": {
      "text/plain": "array([-0.17783222], dtype=float32)"
     },
     "execution_count": 18,
     "metadata": {},
     "output_type": "execute_result"
    }
   ],
   "source": [
    "m = Normal(torch.tensor([0.0]), torch.tensor([0.5]))\n",
    "m.sample().numpy()"
   ],
   "metadata": {
    "collapsed": false,
    "pycharm": {
     "name": "#%%\n"
    }
   }
  },
  {
   "cell_type": "code",
   "execution_count": null,
   "outputs": [],
   "source": [],
   "metadata": {
    "collapsed": false,
    "pycharm": {
     "name": "#%%\n"
    }
   }
  }
 ],
 "metadata": {
  "kernelspec": {
   "display_name": "Python 3",
   "language": "python",
   "name": "python3"
  },
  "language_info": {
   "codemirror_mode": {
    "name": "ipython",
    "version": 2
   },
   "file_extension": ".py",
   "mimetype": "text/x-python",
   "name": "python",
   "nbconvert_exporter": "python",
   "pygments_lexer": "ipython2",
   "version": "2.7.6"
  }
 },
 "nbformat": 4,
 "nbformat_minor": 0
}